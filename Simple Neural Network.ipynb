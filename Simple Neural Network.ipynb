{
 "cells": [
  {
   "cell_type": "markdown",
   "id": "41392988",
   "metadata": {},
   "source": [
    "# Imports required"
   ]
  },
  {
   "cell_type": "code",
   "execution_count": 1,
   "id": "300e1de6",
   "metadata": {},
   "outputs": [],
   "source": [
    "import torch\n",
    "import torch.nn as nn\n",
    "import torch.optim as optim\n",
    "from torch.utils.data import Dataset, DataLoader, random_split\n",
    "\n",
    "from sklearn.model_selection import train_test_split\n",
    "from sklearn.datasets import load_iris\n",
    "\n",
    "import numpy as np\n",
    "import pandas as pd\n",
    "import matplotlib.pyplot as plt\n",
    "from tqdm import tqdm\n",
    "\n",
    "plt.style.use('ggplot')\n",
    "plt.rcParams[\"figure.figsize\"] = (16, 14)\n",
    "\n",
    "%matplotlib inline"
   ]
  },
  {
   "cell_type": "markdown",
   "id": "8716085e",
   "metadata": {},
   "source": [
    "# Custom Dataset using torch"
   ]
  },
  {
   "cell_type": "code",
   "execution_count": 2,
   "id": "b14c56a3",
   "metadata": {},
   "outputs": [],
   "source": [
    "class IrisDataset(Dataset):\n",
    "    def __init__(self, root: str):\n",
    "        dataframe = pd.read_csv(root)\n",
    "        self.classes = dataframe.iloc[:, -1].unique().tolist()\n",
    "        self.idx_to_class = dict(enumerate(self.classes))\n",
    "        self.class_to_idx = {class_: idx for idx, class_ in self.idx_to_class.items()}\n",
    "\n",
    "        self.data = dataframe.iloc[:, 1:-1].values.astype('uint8')\n",
    "        self.labels = dataframe.replace({'Species': self.class_to_idx})['Species'].values\n",
    "        self.labels = np.array(self.labels, dtype='int')\n",
    "\n",
    "    def __len__(self):\n",
    "        return len(self.data)\n",
    "\n",
    "    def __getitem__(self, idx):\n",
    "        return torch.tensor(self.data[idx].tolist(), dtype=torch.float), torch.tensor(self.labels[idx], dtype=torch.long)"
   ]
  },
  {
   "cell_type": "code",
   "execution_count": 3,
   "id": "fa91fdd4",
   "metadata": {},
   "outputs": [
    {
     "data": {
      "text/html": [
       "<div>\n",
       "<style scoped>\n",
       "    .dataframe tbody tr th:only-of-type {\n",
       "        vertical-align: middle;\n",
       "    }\n",
       "\n",
       "    .dataframe tbody tr th {\n",
       "        vertical-align: top;\n",
       "    }\n",
       "\n",
       "    .dataframe thead th {\n",
       "        text-align: right;\n",
       "    }\n",
       "</style>\n",
       "<table border=\"1\" class=\"dataframe\">\n",
       "  <thead>\n",
       "    <tr style=\"text-align: right;\">\n",
       "      <th></th>\n",
       "      <th>Id</th>\n",
       "      <th>SepalLengthCm</th>\n",
       "      <th>SepalWidthCm</th>\n",
       "      <th>PetalLengthCm</th>\n",
       "      <th>PetalWidthCm</th>\n",
       "    </tr>\n",
       "  </thead>\n",
       "  <tbody>\n",
       "    <tr>\n",
       "      <th>count</th>\n",
       "      <td>150.000000</td>\n",
       "      <td>150.000000</td>\n",
       "      <td>150.000000</td>\n",
       "      <td>150.000000</td>\n",
       "      <td>150.000000</td>\n",
       "    </tr>\n",
       "    <tr>\n",
       "      <th>mean</th>\n",
       "      <td>75.500000</td>\n",
       "      <td>5.843333</td>\n",
       "      <td>3.054000</td>\n",
       "      <td>3.758667</td>\n",
       "      <td>1.198667</td>\n",
       "    </tr>\n",
       "    <tr>\n",
       "      <th>std</th>\n",
       "      <td>43.445368</td>\n",
       "      <td>0.828066</td>\n",
       "      <td>0.433594</td>\n",
       "      <td>1.764420</td>\n",
       "      <td>0.763161</td>\n",
       "    </tr>\n",
       "    <tr>\n",
       "      <th>min</th>\n",
       "      <td>1.000000</td>\n",
       "      <td>4.300000</td>\n",
       "      <td>2.000000</td>\n",
       "      <td>1.000000</td>\n",
       "      <td>0.100000</td>\n",
       "    </tr>\n",
       "    <tr>\n",
       "      <th>25%</th>\n",
       "      <td>38.250000</td>\n",
       "      <td>5.100000</td>\n",
       "      <td>2.800000</td>\n",
       "      <td>1.600000</td>\n",
       "      <td>0.300000</td>\n",
       "    </tr>\n",
       "    <tr>\n",
       "      <th>50%</th>\n",
       "      <td>75.500000</td>\n",
       "      <td>5.800000</td>\n",
       "      <td>3.000000</td>\n",
       "      <td>4.350000</td>\n",
       "      <td>1.300000</td>\n",
       "    </tr>\n",
       "    <tr>\n",
       "      <th>75%</th>\n",
       "      <td>112.750000</td>\n",
       "      <td>6.400000</td>\n",
       "      <td>3.300000</td>\n",
       "      <td>5.100000</td>\n",
       "      <td>1.800000</td>\n",
       "    </tr>\n",
       "    <tr>\n",
       "      <th>max</th>\n",
       "      <td>150.000000</td>\n",
       "      <td>7.900000</td>\n",
       "      <td>4.400000</td>\n",
       "      <td>6.900000</td>\n",
       "      <td>2.500000</td>\n",
       "    </tr>\n",
       "  </tbody>\n",
       "</table>\n",
       "</div>"
      ],
      "text/plain": [
       "               Id  SepalLengthCm  SepalWidthCm  PetalLengthCm  PetalWidthCm\n",
       "count  150.000000     150.000000    150.000000     150.000000    150.000000\n",
       "mean    75.500000       5.843333      3.054000       3.758667      1.198667\n",
       "std     43.445368       0.828066      0.433594       1.764420      0.763161\n",
       "min      1.000000       4.300000      2.000000       1.000000      0.100000\n",
       "25%     38.250000       5.100000      2.800000       1.600000      0.300000\n",
       "50%     75.500000       5.800000      3.000000       4.350000      1.300000\n",
       "75%    112.750000       6.400000      3.300000       5.100000      1.800000\n",
       "max    150.000000       7.900000      4.400000       6.900000      2.500000"
      ]
     },
     "execution_count": 3,
     "metadata": {},
     "output_type": "execute_result"
    }
   ],
   "source": [
    "dataframe = pd.read_csv('./Data/Iris.csv')\n",
    "dataframe.describe()"
   ]
  },
  {
   "cell_type": "code",
   "execution_count": 4,
   "id": "7bcb270e",
   "metadata": {},
   "outputs": [
    {
     "data": {
      "image/png": "[encoded data removed]",
      "text/plain": [
       "<Figure size 432x288 with 1 Axes>"
      ]
     },
     "metadata": {
      "needs_background": "light"
     },
     "output_type": "display_data"
    }
   ],
   "source": [
    "dataframe.plot(kind=\"scatter\", x=\"SepalLengthCm\", y=\"SepalWidthCm\")\n",
    "plt.show()"
   ]
  },
  {
   "cell_type": "code",
   "execution_count": 5,
   "id": "bd9a23d8",
   "metadata": {},
   "outputs": [
    {
     "data": {
      "image/png": "[encoded data removed]",
      "text/plain": [
       "<Figure size 432x288 with 1 Axes>"
      ]
     },
     "metadata": {
      "needs_background": "light"
     },
     "output_type": "display_data"
    }
   ],
   "source": [
    "dataframe.plot(kind=\"scatter\", x=\"PetalLengthCm\", y=\"PetalWidthCm\")\n",
    "plt.show()"
   ]
  },
  {
   "cell_type": "markdown",
   "id": "d586db4b",
   "metadata": {},
   "source": [
    "# Neural Network using Torch"
   ]
  },
  {
   "cell_type": "code",
   "execution_count": 6,
   "id": "c84f3a41",
   "metadata": {},
   "outputs": [],
   "source": [
    "class Block(nn.Module):\n",
    "    def __init__(self, in_features: int, out_features: int, use_norm: bool = True, use_act: bool = True):\n",
    "        super(Block, self).__init__()\n",
    "        self.block = nn.Sequential(\n",
    "            nn.Linear(in_features, out_features, bias=not use_norm),\n",
    "\n",
    "            nn.BatchNorm1d(out_features) if use_norm\n",
    "            else nn.Identity(),\n",
    "\n",
    "            nn.ReLU(inplace=True) if use_act\n",
    "            else nn.Identity()\n",
    "        )\n",
    "\n",
    "    def forward(self, x):\n",
    "        return self.block(x)\n",
    "\n",
    "\n",
    "class NeuralNetwork(nn.Module):\n",
    "    def __init__(self, in_features: int, n_classes: int, hidden_dim: int = 16, dropout: float = 0.5):\n",
    "        super().__init__()\n",
    "        self.network = nn.Sequential(\n",
    "            Block(in_features, hidden_dim),\n",
    "            nn.Dropout(dropout),\n",
    "            Block(hidden_dim, hidden_dim * 2),\n",
    "            nn.Dropout(dropout),\n",
    "            Block(hidden_dim * 2, hidden_dim * 4),\n",
    "            Block(hidden_dim * 4, n_classes, use_norm=False, use_act=False)\n",
    "        )\n",
    "\n",
    "    def forward(self, x):\n",
    "        return self.network(x)"
   ]
  },
  {
   "cell_type": "markdown",
   "id": "219110fe",
   "metadata": {},
   "source": [
    "# Utility functions that help with the training of the network"
   ]
  },
  {
   "cell_type": "code",
   "execution_count": 7,
   "id": "4f953e69",
   "metadata": {},
   "outputs": [],
   "source": [
    "def multiclass_accuracy(predictions: torch.Tensor, labels: torch.Tensor):\n",
    "    pred_labels = torch.argmax(predictions, dim=1)\n",
    "    return (pred_labels == labels).float().mean()\n",
    "\n",
    "def train_fn(network: nn.Module, dataloader: DataLoader, optimizer: optim.Optimizer, criterion: nn.Module, device: str = 'cpu'):\n",
    "    loop = tqdm(enumerate(dataloader), total=len(dataloader), leave=True)\n",
    "    avg_loss = 0.0\n",
    "    avg_acc = 0.0\n",
    "\n",
    "    for batch_idx, (samples, targets) in loop:\n",
    "        samples = samples.to(device)\n",
    "        targets = targets.to(device)\n",
    "        \n",
    "        predictions = network(samples)\n",
    "        loss = criterion(predictions, targets)\n",
    "        accuracy = multiclass_accuracy(predictions, targets)\n",
    "\n",
    "        optimizer.zero_grad()\n",
    "        loss.backward()\n",
    "        optimizer.step()\n",
    "\n",
    "        avg_acc += accuracy.item()\n",
    "        avg_loss += loss.item()\n",
    "\n",
    "        loop.set_description(f'Step: [{batch_idx+1}/{len(dataloader)}]')\n",
    "        loop.set_postfix(loss=avg_loss / (batch_idx+1), accuracy=avg_acc / (batch_idx + 1))\n",
    "\n",
    "    return avg_loss, avg_acc\n",
    "\n",
    "\n",
    "def eval_network(network: nn.Module, dataloader: DataLoader, criterion: nn.Module, device: str = 'cpu'):\n",
    "    loop = tqdm(enumerate(dataloader), total=len(dataloader), leave=True)\n",
    "    avg_loss = 0.0\n",
    "    avg_acc = 0.0\n",
    "    \n",
    "    network.eval()\n",
    "    preds = []\n",
    "    \n",
    "    with torch.no_grad():\n",
    "        for batch_idx, (samples, targets) in loop:\n",
    "            samples = samples.to(device)\n",
    "            targets = targets.to(device)\n",
    "\n",
    "            predictions = network(samples)\n",
    "            preds.append(torch.argmax(predictions, dim=1))\n",
    "            loss = criterion(predictions, targets)\n",
    "            accuracy = multiclass_accuracy(predictions, targets)\n",
    "\n",
    "            avg_acc += accuracy.item()\n",
    "            avg_loss += loss.item()\n",
    "\n",
    "            loop.set_description(f'Step: [{batch_idx+1}/{len(dataloader)}]')\n",
    "            loop.set_postfix(loss=avg_loss / (batch_idx+1), accuracy=avg_acc / (batch_idx + 1))\n",
    "    \n",
    "    return avg_loss, avg_acc, preds\n",
    "\n",
    "\n",
    "def save_network(filename: str, network: nn.Module, optimizer: optim.Optimizer, **kwargs):\n",
    "    checkpoint = {'network': network.state_dict(), 'optimizer': optimizer.state_dict()}\n",
    "    for param in kwargs:\n",
    "        checkpoint[param] = kwargs[param]\n",
    "    print(f'-> Saving Model at {filename}')\n",
    "    torch.save(checkpoint, filename)\n",
    "\n",
    "\n",
    "def load_network(filename: str, network: nn.Module, optimizer: optim.Optimizer, lr: float, **kwargs):\n",
    "    checkpoint = torch.load(filename)\n",
    "    network.load_state_dict(checkpoint['network'])\n",
    "    optimizer.load_state_dict(checkpoint['optimizer'])\n",
    "    for param_group in optimizer.param_groups:\n",
    "        param_group['lr'] = lr\n",
    "    meta_data = {}\n",
    "    for param in kwargs:\n",
    "        if checkpoint.get(param, None) is not None:\n",
    "            meta_data[param] = checkpoint[param]\n",
    "\n",
    "    return meta_data"
   ]
  },
  {
   "cell_type": "markdown",
   "id": "5926a081",
   "metadata": {},
   "source": [
    "# Hyperparameters and network configuration"
   ]
  },
  {
   "cell_type": "code",
   "execution_count": 8,
   "id": "e61d8846",
   "metadata": {},
   "outputs": [],
   "source": [
    "n_epochs = 15\n",
    "bs = 32\n",
    "hidden_size = 32\n",
    "input_size = 4\n",
    "n_classes = 3\n",
    "lr = 1e-4\n",
    "\n",
    "device = torch.device('cuda' if torch.cuda.is_available() else 'cpu')\n",
    "network = NeuralNetwork(input_size, n_classes, hidden_size).to(device)\n",
    "optimizer = optim.Adam(network.parameters(), lr=lr)\n",
    "criterion = nn.CrossEntropyLoss()"
   ]
  },
  {
   "cell_type": "markdown",
   "id": "be56c44c",
   "metadata": {},
   "source": [
    "# Datasplit and Dataloading"
   ]
  },
  {
   "cell_type": "code",
   "execution_count": 9,
   "id": "4b382cc5",
   "metadata": {},
   "outputs": [],
   "source": [
    "dataset = IrisDataset(root='./Data/Iris.csv')\n",
    "\n",
    "val_split = 0.1\n",
    "lengths = list(map(int, [len(dataset) * (1-val_split), len(dataset) * val_split]))\n",
    "\n",
    "train_ds, valid_ds = random_split(dataset, lengths)\n",
    "train_dl, valid_dl = DataLoader(train_ds, batch_size=bs, shuffle=True), DataLoader(valid_ds, batch_size=2*bs, shuffle=True)"
   ]
  },
  {
   "cell_type": "markdown",
   "id": "65308ba0",
   "metadata": {},
   "source": [
    "# Training Loop"
   ]
  },
  {
   "cell_type": "code",
   "execution_count": 10,
   "id": "6c7ed18b",
   "metadata": {},
   "outputs": [
    {
     "name": "stderr",
     "output_type": "stream",
     "text": [
      "Step: [5/5]: 100%|██████████| 5/5 [00:00<00:00, 117.89it/s, accuracy=0.323, loss=1.14]\n",
      "Step: [5/5]: 100%|██████████| 5/5 [00:00<00:00, 139.80it/s, accuracy=0.461, loss=1.06]\n",
      "Step: [5/5]: 100%|██████████| 5/5 [00:00<00:00, 122.01it/s, accuracy=0.388, loss=1.08]\n",
      "Step: [5/5]: 100%|██████████| 5/5 [00:00<00:00, 128.06it/s, accuracy=0.413, loss=1.06]\n",
      "Step: [2/5]:   0%|          | 0/5 [00:00<?, ?it/s, accuracy=0.5, loss=1.06] "
     ]
    },
    {
     "name": "stdout",
     "output_type": "stream",
     "text": [
      "Running on device: cpu\n",
      "-> Saving Model at ./NeuralNetwork.pth.tar\n",
      "-> Saving Model at ./NeuralNetwork.pth.tar\n"
     ]
    },
    {
     "name": "stderr",
     "output_type": "stream",
     "text": [
      "Step: [5/5]: 100%|██████████| 5/5 [00:00<00:00, 122.93it/s, accuracy=0.486, loss=1.04]\n",
      "Step: [5/5]: 100%|██████████| 5/5 [00:00<00:00, 104.35it/s, accuracy=0.42, loss=1.07]\n",
      "Step: [5/5]: 100%|██████████| 5/5 [00:00<00:00, 105.86it/s, accuracy=0.521, loss=1.03]\n",
      "Step: [5/5]: 100%|██████████| 5/5 [00:00<00:00, 122.96it/s, accuracy=0.523, loss=0.999]\n",
      "Step: [5/5]: 100%|██████████| 5/5 [00:00<00:00, 134.23it/s, accuracy=0.599, loss=0.956]\n",
      "Step: [1/5]:   0%|          | 0/5 [00:00<?, ?it/s, accuracy=0.562, loss=0.972]"
     ]
    },
    {
     "name": "stdout",
     "output_type": "stream",
     "text": [
      "-> Saving Model at ./NeuralNetwork.pth.tar\n",
      "-> Saving Model at ./NeuralNetwork.pth.tar\n",
      "-> Saving Model at ./NeuralNetwork.pth.tar\n"
     ]
    },
    {
     "name": "stderr",
     "output_type": "stream",
     "text": [
      "Step: [5/5]: 100%|██████████| 5/5 [00:00<00:00, 92.31it/s, accuracy=0.643, loss=0.917]\n",
      "Step: [5/5]: 100%|██████████| 5/5 [00:00<00:00, 139.63it/s, accuracy=0.548, loss=0.984]\n",
      "Step: [5/5]: 100%|██████████| 5/5 [00:00<00:00, 122.00it/s, accuracy=0.615, loss=0.945]\n",
      "Step: [5/5]: 100%|██████████| 5/5 [00:00<00:00, 165.62it/s, accuracy=0.548, loss=0.998]\n",
      "Step: [5/5]: 100%|██████████| 5/5 [00:00<00:00, 134.69it/s, accuracy=0.634, loss=0.949]\n",
      "Step: [5/5]: 100%|██████████| 5/5 [00:00<00:00, 83.53it/s, accuracy=0.653, loss=0.91]"
     ]
    },
    {
     "name": "stdout",
     "output_type": "stream",
     "text": [
      "-> Saving Model at ./NeuralNetwork.pth.tar\n",
      "-> Saving Model at ./NeuralNetwork.pth.tar\n",
      "-> Saving Model at ./NeuralNetwork.pth.tar\n"
     ]
    },
    {
     "name": "stderr",
     "output_type": "stream",
     "text": [
      "\n"
     ]
    }
   ],
   "source": [
    "print(f'Running on device: {device}')\n",
    "for epoch in range(n_epochs):\n",
    "    loss, accuracy = train_fn(network, train_dl, optimizer, criterion)\n",
    "    if epoch % 2 == 0:\n",
    "        save_network('./NeuralNetwork.pth.tar', network, optimizer, loss=loss, epoch=epoch, accuracy=accuracy)"
   ]
  },
  {
   "cell_type": "markdown",
   "id": "bcae5900",
   "metadata": {},
   "source": [
    "# Evaluating the network on the Validation data"
   ]
  },
  {
   "cell_type": "code",
   "execution_count": 11,
   "id": "e9a09f3e",
   "metadata": {},
   "outputs": [
    {
     "name": "stderr",
     "output_type": "stream",
     "text": [
      "Step: [1/1]: 100%|██████████| 1/1 [00:00<00:00, 179.38it/s, accuracy=0.867, loss=0.931]"
     ]
    },
    {
     "name": "stdout",
     "output_type": "stream",
     "text": [
      "On the validation set\n",
      "Loss: 0.9305001497268677 Accuracy: 0.8666666746139526\n"
     ]
    },
    {
     "name": "stderr",
     "output_type": "stream",
     "text": [
      "\n"
     ]
    }
   ],
   "source": [
    "# Evaluating the network\n",
    "val_loss, val_accuracy, preds = eval_network(network, valid_dl, criterion)\n",
    "print(f'On the validation set\\nLoss: {val_loss} Accuracy: {val_accuracy}')"
   ]
  }
 ],
 "metadata": {
  "kernelspec": {
   "display_name": "Python 3",
   "language": "python",
   "name": "python3"
  },
  "language_info": {
   "codemirror_mode": {
    "name": "ipython",
    "version": 3
   },
   "file_extension": ".py",
   "mimetype": "text/x-python",
   "name": "python",
   "nbconvert_exporter": "python",
   "pygments_lexer": "ipython3",
   "version": "3.8.5"
  }
 },
 "nbformat": 4,
 "nbformat_minor": 5
}
